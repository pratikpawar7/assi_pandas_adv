{
 "cells": [
  {
   "cell_type": "code",
   "execution_count": 2,
   "id": "25aab6a8-39e1-45f1-b25f-41156de7b421",
   "metadata": {},
   "outputs": [
    {
     "data": {
      "text/plain": [
       "'\\nQ1. List any five functions of the pandas library with execution.\\n'"
      ]
     },
     "execution_count": 2,
     "metadata": {},
     "output_type": "execute_result"
    }
   ],
   "source": [
    "'''\n",
    "Q1. List any five functions of the pandas library with execution.\n",
    "'''\n",
    "df[].mean() :  # give mean of the column \n",
    "df[].median() : # give median of the column \n",
    "df[].std()    : # give std of the column \n",
    "df[].varience() : # give varience of the column \n",
    "\n",
    "\n",
    "df.sum()      # give sum of values \n",
    "df.dropna()   # drop the rows that have null value \n",
    "df.rename()   # rename the column name \n",
    "df.columns()  # gives all columns name in the dataset\n",
    "df.rows()     # gives all rows in the dataset.  \n",
    "\n",
    "df.discribe()  # give statistical analysis \n"
   ]
  },
  {
   "cell_type": "code",
   "execution_count": 3,
   "id": "faaa1ece-31cd-4e0a-bb5a-cf321c254db9",
   "metadata": {},
   "outputs": [
    {
     "name": "stdout",
     "output_type": "stream",
     "text": [
      "    A   B   C\n",
      "1  10  40  70\n",
      "3  20  50  80\n",
      "5  30  60  90\n"
     ]
    }
   ],
   "source": [
    "'''\n",
    "Q2. Given a Pandas DataFrame df with columns 'A', 'B', and 'C', write a Python function to re-index the\n",
    "DataFrame with a new index that starts from 1 and increments by 2 for each row.\n",
    "'''\n",
    "\n",
    "\n",
    "import pandas as pd\n",
    "\n",
    "def reindex_dataframe(df):\n",
    "    df = df.reset_index(drop=True)\n",
    "    new_index = range(1, 2 * len(df) + 1, 2)\n",
    "    df.index = new_index\n",
    "    return df\n",
    "\n",
    "\n",
    "data = {'A': [10, 20, 30],\n",
    "        'B': [40, 50, 60],\n",
    "        'C': [70, 80, 90]}\n",
    "\n",
    "df = pd.DataFrame(data)\n",
    "\n",
    "\n",
    "new_df = reindex_dataframe(df)\n",
    "print(new_df)"
   ]
  },
  {
   "cell_type": "code",
   "execution_count": 4,
   "id": "bb0e8e84-2d6b-47d6-b372-ee781a616ac6",
   "metadata": {},
   "outputs": [
    {
     "data": {
      "text/plain": [
       "60"
      ]
     },
     "execution_count": 4,
     "metadata": {},
     "output_type": "execute_result"
    }
   ],
   "source": [
    "'''\n",
    "Q3. You have a Pandas DataFrame df with a column named 'Values'. Write a Python function that\n",
    "iterates over the DataFrame and calculates the sum of the first three values in the 'Values' column. The\n",
    "function should print the sum to the console.\n",
    "\n",
    "For example, if the 'Values' column of df contains the values [10, 20, 30, 40, 50], your function should\n",
    "calculate and print the sum of the first three values, which is 60.\n",
    "\n",
    "'''\n",
    "data = {'column' :[10, 20, 30, 40, 50]}\n",
    "\n",
    "df = pd.DataFrame(data)\n",
    "\n",
    "df['column'][0:3].sum()                   "
   ]
  },
  {
   "cell_type": "code",
   "execution_count": 5,
   "id": "9e47504e-1272-4fe9-bdf9-0dc6fb3d0a47",
   "metadata": {},
   "outputs": [
    {
     "data": {
      "text/html": [
       "<div>\n",
       "<style scoped>\n",
       "    .dataframe tbody tr th:only-of-type {\n",
       "        vertical-align: middle;\n",
       "    }\n",
       "\n",
       "    .dataframe tbody tr th {\n",
       "        vertical-align: top;\n",
       "    }\n",
       "\n",
       "    .dataframe thead th {\n",
       "        text-align: right;\n",
       "    }\n",
       "</style>\n",
       "<table border=\"1\" class=\"dataframe\">\n",
       "  <thead>\n",
       "    <tr style=\"text-align: right;\">\n",
       "      <th></th>\n",
       "      <th>Text</th>\n",
       "      <th>Word_Count</th>\n",
       "    </tr>\n",
       "  </thead>\n",
       "  <tbody>\n",
       "    <tr>\n",
       "      <th>0</th>\n",
       "      <td>Pratik</td>\n",
       "      <td>6</td>\n",
       "    </tr>\n",
       "    <tr>\n",
       "      <th>1</th>\n",
       "      <td>banti</td>\n",
       "      <td>5</td>\n",
       "    </tr>\n",
       "    <tr>\n",
       "      <th>2</th>\n",
       "      <td>ganesh</td>\n",
       "      <td>6</td>\n",
       "    </tr>\n",
       "    <tr>\n",
       "      <th>3</th>\n",
       "      <td>mangesh</td>\n",
       "      <td>7</td>\n",
       "    </tr>\n",
       "  </tbody>\n",
       "</table>\n",
       "</div>"
      ],
      "text/plain": [
       "      Text  Word_Count\n",
       "0   Pratik           6\n",
       "1    banti           5\n",
       "2   ganesh           6\n",
       "3  mangesh           7"
      ]
     },
     "execution_count": 5,
     "metadata": {},
     "output_type": "execute_result"
    }
   ],
   "source": [
    "'''\n",
    "Q4. Given a Pandas DataFrame df with a column 'Text', write a Python function to create a new column\n",
    "'Word_Count' that contains the number of words in each row of the 'Text' column.\n",
    "'''\n",
    "\n",
    "df = pd.DataFrame({'Text' : ['Pratik' , 'banti' , 'ganesh' , 'mangesh']\n",
    "                 })\n",
    "\n",
    "\n",
    "df['Word_Count']= df['Text'].apply(len)\n",
    "\n",
    "df\n"
   ]
  },
  {
   "cell_type": "code",
   "execution_count": 15,
   "id": "436b84c4-1d3f-4be5-8e1b-68675f5fc245",
   "metadata": {},
   "outputs": [
    {
     "name": "stdout",
     "output_type": "stream",
     "text": [
      "(3, 2)\n",
      "6\n"
     ]
    }
   ],
   "source": [
    "'''\n",
    "Q5. How are DataFrame.size() and DataFrame.shape() different?\n",
    "'''\n",
    "print(df.shape)     # DataFrame.shape is an attribute that returns a tuple containing the number \n",
    "                    # of rows and columns in the DataFrame.\n",
    "\n",
    "print(df.size)      # DataFrame.size is an attribute that returns the total number of elements\n",
    "                    # in the DataFrame, which is the product of the number of rows and columns.\n",
    "\n"
   ]
  },
  {
   "cell_type": "code",
   "execution_count": null,
   "id": "214cd582-5120-4144-b686-8b77d6f2c29b",
   "metadata": {},
   "outputs": [],
   "source": [
    "'''\n",
    "Q6. Which function of pandas do we use to read an excel file?\n",
    "'''\n",
    "\n",
    "pd.read_excel()  # This funtion is used to read excel file "
   ]
  },
  {
   "cell_type": "code",
   "execution_count": 84,
   "id": "0959a7a2-5754-4806-9048-3962ee31469a",
   "metadata": {},
   "outputs": [
    {
     "data": {
      "text/html": [
       "<div>\n",
       "<style scoped>\n",
       "    .dataframe tbody tr th:only-of-type {\n",
       "        vertical-align: middle;\n",
       "    }\n",
       "\n",
       "    .dataframe tbody tr th {\n",
       "        vertical-align: top;\n",
       "    }\n",
       "\n",
       "    .dataframe thead th {\n",
       "        text-align: right;\n",
       "    }\n",
       "</style>\n",
       "<table border=\"1\" class=\"dataframe\">\n",
       "  <thead>\n",
       "    <tr style=\"text-align: right;\">\n",
       "      <th></th>\n",
       "      <th>Email_id</th>\n",
       "      <th>Name_off</th>\n",
       "    </tr>\n",
       "  </thead>\n",
       "  <tbody>\n",
       "    <tr>\n",
       "      <th>0</th>\n",
       "      <td>bantipawar@gmail.com</td>\n",
       "      <td>bantipawar</td>\n",
       "    </tr>\n",
       "    <tr>\n",
       "      <th>1</th>\n",
       "      <td>pratikpawar@gmail.com</td>\n",
       "      <td>pratikpawar</td>\n",
       "    </tr>\n",
       "    <tr>\n",
       "      <th>2</th>\n",
       "      <td>ganesh@gmail.com</td>\n",
       "      <td>ganesh</td>\n",
       "    </tr>\n",
       "    <tr>\n",
       "      <th>3</th>\n",
       "      <td>vedant@gmail.com</td>\n",
       "      <td>vedant</td>\n",
       "    </tr>\n",
       "    <tr>\n",
       "      <th>4</th>\n",
       "      <td>Raj@gmail.com</td>\n",
       "      <td>Raj</td>\n",
       "    </tr>\n",
       "    <tr>\n",
       "      <th>5</th>\n",
       "      <td>Chikuu@gamil.com</td>\n",
       "      <td>Chikuu</td>\n",
       "    </tr>\n",
       "  </tbody>\n",
       "</table>\n",
       "</div>"
      ],
      "text/plain": [
       "                Email_id     Name_off\n",
       "0   bantipawar@gmail.com   bantipawar\n",
       "1  pratikpawar@gmail.com  pratikpawar\n",
       "2       ganesh@gmail.com       ganesh\n",
       "3       vedant@gmail.com       vedant\n",
       "4          Raj@gmail.com          Raj\n",
       "5       Chikuu@gamil.com       Chikuu"
      ]
     },
     "execution_count": 84,
     "metadata": {},
     "output_type": "execute_result"
    }
   ],
   "source": [
    "'''\n",
    "Q7. You have a Pandas DataFrame df that contains a column named 'Email' that contains email\n",
    "addresses in the format 'username@domain.com'. Write a Python function that creates a new column\n",
    "'Username' in df that contains only the username part of each email address.\n",
    "The username is the part of the email address that appears before the '@' symbol.\n",
    "\n",
    "For example, if the\n",
    "email address is 'john.doe@example.com', the 'Username' column should contain 'john.doe'. Your\n",
    "function should extract the username from each email address and store it in the new 'Username'\n",
    "column.\n",
    "'''\n",
    "\n",
    "df = pd.DataFrame({'Email_id' :['bantipawar@gmail.com' , 'pratikpawar@gmail.com' , 'ganesh@gmail.com' \n",
    "                                , 'vedant@gmail.com' , 'Raj@gmail.com' , 'Chikuu@gamil.com'] })\n",
    "\n",
    "\n",
    "df['Name_off']= df['Email_id'].apply(lambda x : x[0:-10])\n",
    "\n",
    "df"
   ]
  },
  {
   "cell_type": "code",
   "execution_count": 119,
   "id": "2d7ff447-d824-4558-9941-9a0867dc36f6",
   "metadata": {},
   "outputs": [
    {
     "data": {
      "text/plain": [
       "[0    False\n",
       " 1     True\n",
       " 2     True\n",
       " 3    False\n",
       " 4     True\n",
       " dtype: bool]"
      ]
     },
     "execution_count": 119,
     "metadata": {},
     "output_type": "execute_result"
    }
   ],
   "source": [
    "'''\n",
    "\n",
    "Q8. You have a Pandas DataFrame df with columns 'A', 'B', and 'C'. Write a Python function that selects\n",
    "all rows where the value in column 'A' is greater than 5 and the value in column 'B' is less than 10. The\n",
    "function should return a new DataFrame that contains only the selected rows.\n",
    "For example, if df contains the following values:\n",
    "\n",
    "   A  B  C \n",
    "0  3  5  1\n",
    "1  8  2  7\n",
    "2  6  9  4\n",
    "3  2  3  5\n",
    "4  9  1  2\n",
    "\n",
    "'''\n",
    "df = pd.DataFrame({'A' :[3,8,6,2,9],\n",
    "                   'B' :[5,2,9,3,1],\n",
    "                   'C' :[1,7,4,5,2]  })\n",
    "\n",
    "df= [(df['A'] >5) & (df['B'] < 10)  ]\n",
    "\n",
    "df\n"
   ]
  },
  {
   "cell_type": "code",
   "execution_count": null,
   "id": "9b5c1e5e-62e7-4b6d-8a76-d401531e562e",
   "metadata": {},
   "outputs": [],
   "source": []
  },
  {
   "cell_type": "code",
   "execution_count": null,
   "id": "a915ffb4-8480-4127-8eb8-438289a446fd",
   "metadata": {},
   "outputs": [],
   "source": []
  }
 ],
 "metadata": {
  "kernelspec": {
   "display_name": "Python 3 (ipykernel)",
   "language": "python",
   "name": "python3"
  },
  "language_info": {
   "codemirror_mode": {
    "name": "ipython",
    "version": 3
   },
   "file_extension": ".py",
   "mimetype": "text/x-python",
   "name": "python",
   "nbconvert_exporter": "python",
   "pygments_lexer": "ipython3",
   "version": "3.10.8"
  }
 },
 "nbformat": 4,
 "nbformat_minor": 5
}
